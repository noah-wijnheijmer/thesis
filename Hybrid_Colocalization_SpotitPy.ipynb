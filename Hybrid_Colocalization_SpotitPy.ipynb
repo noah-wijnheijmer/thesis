{
 "cells": [
  {
   "cell_type": "markdown",
   "id": "14561b1d",
   "metadata": {},
   "source": [
    "# Hybrid Colocalization Analysis with SpotitPy\n",
    "\n",
    "This notebook performs hybrid colocalization analysis between mutant Huntingtin (mHTT) aggregates and CCT1 chaperone foci using the SpotitPy library. It combines object-based detection of protein inclusions and puncta with pixel-wise intensity correlation and spatial analysis.\n",
    "\n",
    "---\n",
    "\n",
    "**Channels:**\n",
    "- Channel 1 = mHTT (Red)\n",
    "- Channel 2 = CCT1 (Green)\n",
    "- Optional: Channel 3 = Nuclei (Blue)\n",
    "\n",
    "**Objectives:**\n",
    "- Segment mHTT aggregates and CCT1 foci\n",
    "- Compute object-wise overlap and centroid distances\n",
    "- Stratify results by aggregate size\n",
    "- Export analysis for downstream biological interpretation"
   ]
  },
  {
   "cell_type": "code",
   "execution_count": null,
   "id": "59ff1880",
   "metadata": {},
   "outputs": [],
   "source": [
    "# Install SpotitPy if not already installed\n",
    "!pip install spotitpy"
   ]
  },
  {
   "cell_type": "code",
   "execution_count": null,
   "id": "03297f8b",
   "metadata": {},
   "outputs": [],
   "source": [
    "# Load and split multi-channel microscopy image\n",
    "from spotitpy.utils import load_multichannel_image\n",
    "\n",
    "image = load_multichannel_image(\"your_image.tif\")  # Replace with your file path\n",
    "mhtt_img = image[0]  # Red channel: mHTT\n",
    "cct1_img = image[1]  # Green channel: CCT1"
   ]
  },
  {
   "cell_type": "code",
   "execution_count": null,
   "id": "d811ccf1",
   "metadata": {},
   "outputs": [],
   "source": [
    "# Detect CCT1 foci using Laplacian of Gaussian\n",
    "from spotitpy.spot_detection import detect_spots_log\n",
    "\n",
    "cct1_spots = detect_spots_log(cct1_img, min_sigma=1, max_sigma=5, threshold=0.03)"
   ]
  },
  {
   "cell_type": "code",
   "execution_count": null,
   "id": "47dcdaff",
   "metadata": {},
   "outputs": [],
   "source": [
    "# Detect mHTT aggregates using thresholding\n",
    "from spotitpy.utils import threshold_objects\n",
    "\n",
    "mhtt_mask = threshold_objects(mhtt_img, method='otsu', min_size=50, max_size=5000)"
   ]
  },
  {
   "cell_type": "code",
   "execution_count": null,
   "id": "e93da732",
   "metadata": {},
   "outputs": [],
   "source": [
    "# Compute colocalization overlap and distances\n",
    "from spotitpy.colocalization import colocalize_spots_objects, distance_to_nearest\n",
    "\n",
    "# Overlap metrics\n",
    "overlap_counts, overlap_fraction = colocalize_spots_objects(\n",
    "    spots=cct1_spots,\n",
    "    binary_mask=mhtt_mask,\n",
    "    return_fraction=True\n",
    ")\n",
    "\n",
    "# Distance to nearest aggregate\n",
    "distances = distance_to_nearest(cct1_spots, mhtt_mask)"
   ]
  },
  {
   "cell_type": "code",
   "execution_count": null,
   "id": "94848166",
   "metadata": {},
   "outputs": [],
   "source": [
    "# Stratify aggregates by size and associate CCT1 foci\n",
    "import pandas as pd\n",
    "from skimage.measure import regionprops, label\n",
    "import numpy as np\n",
    "from scipy.spatial import distance_matrix\n",
    "\n",
    "labeled_mhtt = label(mhtt_mask)\n",
    "props = regionprops(labeled_mhtt)\n",
    "agg_sizes = [p.area for p in props]\n",
    "agg_centroids = [p.centroid for p in props]\n",
    "\n",
    "df = pd.DataFrame(columns=[\"cct1_x\", \"cct1_y\", \"closest_agg_id\", \"distance\", \"agg_area\"])\n",
    "\n",
    "for i, (y, x) in enumerate(cct1_spots):\n",
    "    dists = distance_matrix([[y, x]], agg_centroids)[0]\n",
    "    closest = np.argmin(dists)\n",
    "    df.loc[i] = [x, y, closest, dists[closest], agg_sizes[closest]]"
   ]
  },
  {
   "cell_type": "code",
   "execution_count": null,
   "id": "1f744887",
   "metadata": {},
   "outputs": [],
   "source": [
    "# Visualization\n",
    "import matplotlib.pyplot as plt\n",
    "from spotitpy.utils import overlay_detections\n",
    "\n",
    "fig, ax = plt.subplots(figsize=(10, 10))\n",
    "overlay = overlay_detections(mhtt_img, cct1_spots, mhtt_mask)\n",
    "ax.imshow(overlay)\n",
    "ax.set_title(\"CCT1 foci (green) and mHTT aggregates (red outline)\")\n",
    "plt.axis(\"off\")\n",
    "plt.show()"
   ]
  },
  {
   "cell_type": "code",
   "execution_count": null,
   "id": "fcc33ec1",
   "metadata": {},
   "outputs": [],
   "source": [
    "# Export results for downstream analysis\n",
    "df.to_csv(\"colocalization_per_foci.csv\", index=False)"
   ]
  }
 ],
 "metadata": {},
 "nbformat": 4,
 "nbformat_minor": 5
}
